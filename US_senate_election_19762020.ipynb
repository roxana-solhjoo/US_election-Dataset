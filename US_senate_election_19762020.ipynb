{
  "cells": [
    {
      "cell_type": "markdown",
      "source": [
        "##Loading Data"
      ],
      "metadata": {
        "id": "bF-JnvnoIvxN"
      }
    },
    {
      "cell_type": "code",
      "execution_count": null,
      "metadata": {
        "colab": {
          "base_uri": "https://localhost:8080/"
        },
        "id": "GXftwMOY8uSE",
        "outputId": "3c868039-9476-4b07-f6c7-84692aae5e31"
      },
      "outputs": [
        {
          "output_type": "stream",
          "name": "stdout",
          "text": [
            "--2022-04-19 11:07:41--  https://drive.google.com/uc?export=download&id=1aw0kM5a4Q-bhbHyqK4Hl-tHrvxVpxpWm\n",
            "Resolving drive.google.com (drive.google.com)... 173.194.196.102, 173.194.196.113, 173.194.196.138, ...\n",
            "Connecting to drive.google.com (drive.google.com)|173.194.196.102|:443... connected.\n",
            "HTTP request sent, awaiting response... 303 See Other\n",
            "Location: https://doc-04-3c-docs.googleusercontent.com/docs/securesc/ha0ro937gcuc7l7deffksulhg5h7mbp1/7b7vcb2oklns2dncvb07a93oi2upaar3/1650366450000/11121686744502963554/*/1aw0kM5a4Q-bhbHyqK4Hl-tHrvxVpxpWm?e=download [following]\n",
            "Warning: wildcards not supported in HTTP.\n",
            "--2022-04-19 11:07:42--  https://doc-04-3c-docs.googleusercontent.com/docs/securesc/ha0ro937gcuc7l7deffksulhg5h7mbp1/7b7vcb2oklns2dncvb07a93oi2upaar3/1650366450000/11121686744502963554/*/1aw0kM5a4Q-bhbHyqK4Hl-tHrvxVpxpWm?e=download\n",
            "Resolving doc-04-3c-docs.googleusercontent.com (doc-04-3c-docs.googleusercontent.com)... 142.250.152.132, 2607:f8b0:4001:c56::84\n",
            "Connecting to doc-04-3c-docs.googleusercontent.com (doc-04-3c-docs.googleusercontent.com)|142.250.152.132|:443... connected.\n",
            "HTTP request sent, awaiting response... 200 OK\n",
            "Length: 514153 (502K) [text/csv]\n",
            "Saving to: ‘election.csv’\n",
            "\n",
            "election.csv        100%[===================>] 502.10K  --.-KB/s    in 0.004s  \n",
            "\n",
            "2022-04-19 11:07:42 (122 MB/s) - ‘election.csv’ saved [514153/514153]\n",
            "\n"
          ]
        }
      ],
      "source": [
        "!wget \"https://drive.google.com/uc?export=download&id=1aw0kM5a4Q-bhbHyqK4Hl-tHrvxVpxpWm\" -O 'election.csv' "
      ]
    },
    {
      "cell_type": "markdown",
      "source": [
        "##Imporing Numpy and Pandas Libraries"
      ],
      "metadata": {
        "id": "Ew0rBO92YjN5"
      }
    },
    {
      "cell_type": "code",
      "execution_count": null,
      "metadata": {
        "id": "E-gD81XQ9OYY"
      },
      "outputs": [],
      "source": [
        "import numpy as np\n",
        "import pandas as pd"
      ]
    },
    {
      "cell_type": "markdown",
      "source": [
        "##Transfering data to datframe and displaying heading of the data"
      ],
      "metadata": {
        "id": "0T6x0BW7ZDGz"
      }
    },
    {
      "cell_type": "code",
      "execution_count": null,
      "metadata": {
        "id": "vjnO4m2_9ago",
        "colab": {
          "base_uri": "https://localhost:8080/",
          "height": 206
        },
        "outputId": "d6de46ad-e9ca-4f58-fcdd-eb45cf6db641"
      },
      "outputs": [
        {
          "output_type": "execute_result",
          "data": {
            "text/plain": [
              "   year    state state_po  state_fips  state_cen  state_ic        office  \\\n",
              "0  1976  ALABAMA       AL           1         63        41  US PRESIDENT   \n",
              "1  1976  ALABAMA       AL           1         63        41  US PRESIDENT   \n",
              "2  1976  ALABAMA       AL           1         63        41  US PRESIDENT   \n",
              "3  1976  ALABAMA       AL           1         63        41  US PRESIDENT   \n",
              "4  1976  ALABAMA       AL           1         63        41  US PRESIDENT   \n",
              "\n",
              "                 candidate              party_detailed writein  \\\n",
              "0            CARTER, JIMMY                    DEMOCRAT   False   \n",
              "1             FORD, GERALD                  REPUBLICAN   False   \n",
              "2           MADDOX, LESTER  AMERICAN INDEPENDENT PARTY   False   \n",
              "3  BUBAR, BENJAMIN \"\"BEN\"\"                 PROHIBITION   False   \n",
              "4                HALL, GUS         COMMUNIST PARTY USE   False   \n",
              "\n",
              "   candidatevotes  totalvotes   version  notes party_simplified  \n",
              "0          659170     1182850  20210113    NaN         DEMOCRAT  \n",
              "1          504070     1182850  20210113    NaN       REPUBLICAN  \n",
              "2            9198     1182850  20210113    NaN            OTHER  \n",
              "3            6669     1182850  20210113    NaN            OTHER  \n",
              "4            1954     1182850  20210113    NaN            OTHER  "
            ],
            "text/html": [
              "\n",
              "  <div id=\"df-7e724628-3309-449d-a081-a0c87ef5fee0\">\n",
              "    <div class=\"colab-df-container\">\n",
              "      <div>\n",
              "<style scoped>\n",
              "    .dataframe tbody tr th:only-of-type {\n",
              "        vertical-align: middle;\n",
              "    }\n",
              "\n",
              "    .dataframe tbody tr th {\n",
              "        vertical-align: top;\n",
              "    }\n",
              "\n",
              "    .dataframe thead th {\n",
              "        text-align: right;\n",
              "    }\n",
              "</style>\n",
              "<table border=\"1\" class=\"dataframe\">\n",
              "  <thead>\n",
              "    <tr style=\"text-align: right;\">\n",
              "      <th></th>\n",
              "      <th>year</th>\n",
              "      <th>state</th>\n",
              "      <th>state_po</th>\n",
              "      <th>state_fips</th>\n",
              "      <th>state_cen</th>\n",
              "      <th>state_ic</th>\n",
              "      <th>office</th>\n",
              "      <th>candidate</th>\n",
              "      <th>party_detailed</th>\n",
              "      <th>writein</th>\n",
              "      <th>candidatevotes</th>\n",
              "      <th>totalvotes</th>\n",
              "      <th>version</th>\n",
              "      <th>notes</th>\n",
              "      <th>party_simplified</th>\n",
              "    </tr>\n",
              "  </thead>\n",
              "  <tbody>\n",
              "    <tr>\n",
              "      <th>0</th>\n",
              "      <td>1976</td>\n",
              "      <td>ALABAMA</td>\n",
              "      <td>AL</td>\n",
              "      <td>1</td>\n",
              "      <td>63</td>\n",
              "      <td>41</td>\n",
              "      <td>US PRESIDENT</td>\n",
              "      <td>CARTER, JIMMY</td>\n",
              "      <td>DEMOCRAT</td>\n",
              "      <td>False</td>\n",
              "      <td>659170</td>\n",
              "      <td>1182850</td>\n",
              "      <td>20210113</td>\n",
              "      <td>NaN</td>\n",
              "      <td>DEMOCRAT</td>\n",
              "    </tr>\n",
              "    <tr>\n",
              "      <th>1</th>\n",
              "      <td>1976</td>\n",
              "      <td>ALABAMA</td>\n",
              "      <td>AL</td>\n",
              "      <td>1</td>\n",
              "      <td>63</td>\n",
              "      <td>41</td>\n",
              "      <td>US PRESIDENT</td>\n",
              "      <td>FORD, GERALD</td>\n",
              "      <td>REPUBLICAN</td>\n",
              "      <td>False</td>\n",
              "      <td>504070</td>\n",
              "      <td>1182850</td>\n",
              "      <td>20210113</td>\n",
              "      <td>NaN</td>\n",
              "      <td>REPUBLICAN</td>\n",
              "    </tr>\n",
              "    <tr>\n",
              "      <th>2</th>\n",
              "      <td>1976</td>\n",
              "      <td>ALABAMA</td>\n",
              "      <td>AL</td>\n",
              "      <td>1</td>\n",
              "      <td>63</td>\n",
              "      <td>41</td>\n",
              "      <td>US PRESIDENT</td>\n",
              "      <td>MADDOX, LESTER</td>\n",
              "      <td>AMERICAN INDEPENDENT PARTY</td>\n",
              "      <td>False</td>\n",
              "      <td>9198</td>\n",
              "      <td>1182850</td>\n",
              "      <td>20210113</td>\n",
              "      <td>NaN</td>\n",
              "      <td>OTHER</td>\n",
              "    </tr>\n",
              "    <tr>\n",
              "      <th>3</th>\n",
              "      <td>1976</td>\n",
              "      <td>ALABAMA</td>\n",
              "      <td>AL</td>\n",
              "      <td>1</td>\n",
              "      <td>63</td>\n",
              "      <td>41</td>\n",
              "      <td>US PRESIDENT</td>\n",
              "      <td>BUBAR, BENJAMIN \"\"BEN\"\"</td>\n",
              "      <td>PROHIBITION</td>\n",
              "      <td>False</td>\n",
              "      <td>6669</td>\n",
              "      <td>1182850</td>\n",
              "      <td>20210113</td>\n",
              "      <td>NaN</td>\n",
              "      <td>OTHER</td>\n",
              "    </tr>\n",
              "    <tr>\n",
              "      <th>4</th>\n",
              "      <td>1976</td>\n",
              "      <td>ALABAMA</td>\n",
              "      <td>AL</td>\n",
              "      <td>1</td>\n",
              "      <td>63</td>\n",
              "      <td>41</td>\n",
              "      <td>US PRESIDENT</td>\n",
              "      <td>HALL, GUS</td>\n",
              "      <td>COMMUNIST PARTY USE</td>\n",
              "      <td>False</td>\n",
              "      <td>1954</td>\n",
              "      <td>1182850</td>\n",
              "      <td>20210113</td>\n",
              "      <td>NaN</td>\n",
              "      <td>OTHER</td>\n",
              "    </tr>\n",
              "  </tbody>\n",
              "</table>\n",
              "</div>\n",
              "      <button class=\"colab-df-convert\" onclick=\"convertToInteractive('df-7e724628-3309-449d-a081-a0c87ef5fee0')\"\n",
              "              title=\"Convert this dataframe to an interactive table.\"\n",
              "              style=\"display:none;\">\n",
              "        \n",
              "  <svg xmlns=\"http://www.w3.org/2000/svg\" height=\"24px\"viewBox=\"0 0 24 24\"\n",
              "       width=\"24px\">\n",
              "    <path d=\"M0 0h24v24H0V0z\" fill=\"none\"/>\n",
              "    <path d=\"M18.56 5.44l.94 2.06.94-2.06 2.06-.94-2.06-.94-.94-2.06-.94 2.06-2.06.94zm-11 1L8.5 8.5l.94-2.06 2.06-.94-2.06-.94L8.5 2.5l-.94 2.06-2.06.94zm10 10l.94 2.06.94-2.06 2.06-.94-2.06-.94-.94-2.06-.94 2.06-2.06.94z\"/><path d=\"M17.41 7.96l-1.37-1.37c-.4-.4-.92-.59-1.43-.59-.52 0-1.04.2-1.43.59L10.3 9.45l-7.72 7.72c-.78.78-.78 2.05 0 2.83L4 21.41c.39.39.9.59 1.41.59.51 0 1.02-.2 1.41-.59l7.78-7.78 2.81-2.81c.8-.78.8-2.07 0-2.86zM5.41 20L4 18.59l7.72-7.72 1.47 1.35L5.41 20z\"/>\n",
              "  </svg>\n",
              "      </button>\n",
              "      \n",
              "  <style>\n",
              "    .colab-df-container {\n",
              "      display:flex;\n",
              "      flex-wrap:wrap;\n",
              "      gap: 12px;\n",
              "    }\n",
              "\n",
              "    .colab-df-convert {\n",
              "      background-color: #E8F0FE;\n",
              "      border: none;\n",
              "      border-radius: 50%;\n",
              "      cursor: pointer;\n",
              "      display: none;\n",
              "      fill: #1967D2;\n",
              "      height: 32px;\n",
              "      padding: 0 0 0 0;\n",
              "      width: 32px;\n",
              "    }\n",
              "\n",
              "    .colab-df-convert:hover {\n",
              "      background-color: #E2EBFA;\n",
              "      box-shadow: 0px 1px 2px rgba(60, 64, 67, 0.3), 0px 1px 3px 1px rgba(60, 64, 67, 0.15);\n",
              "      fill: #174EA6;\n",
              "    }\n",
              "\n",
              "    [theme=dark] .colab-df-convert {\n",
              "      background-color: #3B4455;\n",
              "      fill: #D2E3FC;\n",
              "    }\n",
              "\n",
              "    [theme=dark] .colab-df-convert:hover {\n",
              "      background-color: #434B5C;\n",
              "      box-shadow: 0px 1px 3px 1px rgba(0, 0, 0, 0.15);\n",
              "      filter: drop-shadow(0px 1px 2px rgba(0, 0, 0, 0.3));\n",
              "      fill: #FFFFFF;\n",
              "    }\n",
              "  </style>\n",
              "\n",
              "      <script>\n",
              "        const buttonEl =\n",
              "          document.querySelector('#df-7e724628-3309-449d-a081-a0c87ef5fee0 button.colab-df-convert');\n",
              "        buttonEl.style.display =\n",
              "          google.colab.kernel.accessAllowed ? 'block' : 'none';\n",
              "\n",
              "        async function convertToInteractive(key) {\n",
              "          const element = document.querySelector('#df-7e724628-3309-449d-a081-a0c87ef5fee0');\n",
              "          const dataTable =\n",
              "            await google.colab.kernel.invokeFunction('convertToInteractive',\n",
              "                                                     [key], {});\n",
              "          if (!dataTable) return;\n",
              "\n",
              "          const docLinkHtml = 'Like what you see? Visit the ' +\n",
              "            '<a target=\"_blank\" href=https://colab.research.google.com/notebooks/data_table.ipynb>data table notebook</a>'\n",
              "            + ' to learn more about interactive tables.';\n",
              "          element.innerHTML = '';\n",
              "          dataTable['output_type'] = 'display_data';\n",
              "          await google.colab.output.renderOutput(dataTable, element);\n",
              "          const docLink = document.createElement('div');\n",
              "          docLink.innerHTML = docLinkHtml;\n",
              "          element.appendChild(docLink);\n",
              "        }\n",
              "      </script>\n",
              "    </div>\n",
              "  </div>\n",
              "  "
            ]
          },
          "metadata": {},
          "execution_count": 6
        }
      ],
      "source": [
        "df = pd.read_csv(\"election.csv\")\n",
        "df.head()"
      ]
    },
    {
      "cell_type": "markdown",
      "source": [
        "##Ploting a histogarm of the data based on \"Year\""
      ],
      "metadata": {
        "id": "M2LvQpcTZTFV"
      }
    },
    {
      "cell_type": "code",
      "source": [
        "df.hist([\"year\"], bins=30, figsize=(8, 6));"
      ],
      "metadata": {
        "colab": {
          "base_uri": "https://localhost:8080/",
          "height": 390
        },
        "id": "Rh1T_aY6gxs3",
        "outputId": "37e8c49d-39d0-408d-9422-349b5674b563"
      },
      "execution_count": null,
      "outputs": [
        {
          "output_type": "display_data",
          "data": {
            "text/plain": [
              "<Figure size 576x432 with 1 Axes>"
            ],
            "image/png": "[encoded data removed]"
          },
          "metadata": {
            "needs_background": "light"
          }
        }
      ]
    },
    {
      "cell_type": "markdown",
      "source": [
        "##Using shape attribute to get the number of rows and columns of the data. Here we have 15 columns and 4287 rows of data."
      ],
      "metadata": {
        "id": "NyI-CyD8Zjhi"
      }
    },
    {
      "cell_type": "code",
      "execution_count": null,
      "metadata": {
        "colab": {
          "base_uri": "https://localhost:8080/"
        },
        "id": "T9KVW-m99yWx",
        "outputId": "ef2ce59a-71f0-403e-e4ab-fc0a4524deec"
      },
      "outputs": [
        {
          "output_type": "execute_result",
          "data": {
            "text/plain": [
              "(4287, 15)"
            ]
          },
          "metadata": {},
          "execution_count": 8
        }
      ],
      "source": [
        "shape = df.shape\n",
        "shape"
      ]
    },
    {
      "cell_type": "code",
      "execution_count": null,
      "metadata": {
        "colab": {
          "base_uri": "https://localhost:8080/",
          "height": 300
        },
        "id": "nkaue4ZzrLBH",
        "outputId": "c7931c80-2dc0-425d-83a8-76ca4737b444"
      },
      "outputs": [
        {
          "output_type": "execute_result",
          "data": {
            "text/plain": [
              "              year   state_fips    state_cen     state_ic  candidatevotes  \\\n",
              "count  4287.000000  4287.000000  4287.000000  4287.000000    4.287000e+03   \n",
              "mean   1999.080942    28.616982    53.665034    39.754840    3.119076e+05   \n",
              "std      14.220014    15.616459    26.029189    22.772216    7.648011e+05   \n",
              "min    1976.000000     1.000000    11.000000     1.000000    0.000000e+00   \n",
              "25%    1988.000000    16.000000    33.000000    22.000000    1.177000e+03   \n",
              "50%    2000.000000    28.000000    53.000000    42.000000    7.499000e+03   \n",
              "75%    2012.000000    41.000000    81.000000    61.000000    1.992415e+05   \n",
              "max    2020.000000    56.000000    95.000000    82.000000    1.111025e+07   \n",
              "\n",
              "         totalvotes     version  notes  \n",
              "count  4.287000e+03      4287.0    0.0  \n",
              "mean   2.366924e+06  20210113.0    NaN  \n",
              "std    2.465008e+06         0.0    NaN  \n",
              "min    1.235740e+05  20210113.0    NaN  \n",
              "25%    6.522740e+05  20210113.0    NaN  \n",
              "50%    1.569180e+06  20210113.0    NaN  \n",
              "75%    3.033118e+06  20210113.0    NaN  \n",
              "max    1.750088e+07  20210113.0    NaN  "
            ],
            "text/html": [
              "\n",
              "  <div id=\"df-10026a26-10d8-480d-97b0-5021d9677846\">\n",
              "    <div class=\"colab-df-container\">\n",
              "      <div>\n",
              "<style scoped>\n",
              "    .dataframe tbody tr th:only-of-type {\n",
              "        vertical-align: middle;\n",
              "    }\n",
              "\n",
              "    .dataframe tbody tr th {\n",
              "        vertical-align: top;\n",
              "    }\n",
              "\n",
              "    .dataframe thead th {\n",
              "        text-align: right;\n",
              "    }\n",
              "</style>\n",
              "<table border=\"1\" class=\"dataframe\">\n",
              "  <thead>\n",
              "    <tr style=\"text-align: right;\">\n",
              "      <th></th>\n",
              "      <th>year</th>\n",
              "      <th>state_fips</th>\n",
              "      <th>state_cen</th>\n",
              "      <th>state_ic</th>\n",
              "      <th>candidatevotes</th>\n",
              "      <th>totalvotes</th>\n",
              "      <th>version</th>\n",
              "      <th>notes</th>\n",
              "    </tr>\n",
              "  </thead>\n",
              "  <tbody>\n",
              "    <tr>\n",
              "      <th>count</th>\n",
              "      <td>4287.000000</td>\n",
              "      <td>4287.000000</td>\n",
              "      <td>4287.000000</td>\n",
              "      <td>4287.000000</td>\n",
              "      <td>4.287000e+03</td>\n",
              "      <td>4.287000e+03</td>\n",
              "      <td>4287.0</td>\n",
              "      <td>0.0</td>\n",
              "    </tr>\n",
              "    <tr>\n",
              "      <th>mean</th>\n",
              "      <td>1999.080942</td>\n",
              "      <td>28.616982</td>\n",
              "      <td>53.665034</td>\n",
              "      <td>39.754840</td>\n",
              "      <td>3.119076e+05</td>\n",
              "      <td>2.366924e+06</td>\n",
              "      <td>20210113.0</td>\n",
              "      <td>NaN</td>\n",
              "    </tr>\n",
              "    <tr>\n",
              "      <th>std</th>\n",
              "      <td>14.220014</td>\n",
              "      <td>15.616459</td>\n",
              "      <td>26.029189</td>\n",
              "      <td>22.772216</td>\n",
              "      <td>7.648011e+05</td>\n",
              "      <td>2.465008e+06</td>\n",
              "      <td>0.0</td>\n",
              "      <td>NaN</td>\n",
              "    </tr>\n",
              "    <tr>\n",
              "      <th>min</th>\n",
              "      <td>1976.000000</td>\n",
              "      <td>1.000000</td>\n",
              "      <td>11.000000</td>\n",
              "      <td>1.000000</td>\n",
              "      <td>0.000000e+00</td>\n",
              "      <td>1.235740e+05</td>\n",
              "      <td>20210113.0</td>\n",
              "      <td>NaN</td>\n",
              "    </tr>\n",
              "    <tr>\n",
              "      <th>25%</th>\n",
              "      <td>1988.000000</td>\n",
              "      <td>16.000000</td>\n",
              "      <td>33.000000</td>\n",
              "      <td>22.000000</td>\n",
              "      <td>1.177000e+03</td>\n",
              "      <td>6.522740e+05</td>\n",
              "      <td>20210113.0</td>\n",
              "      <td>NaN</td>\n",
              "    </tr>\n",
              "    <tr>\n",
              "      <th>50%</th>\n",
              "      <td>2000.000000</td>\n",
              "      <td>28.000000</td>\n",
              "      <td>53.000000</td>\n",
              "      <td>42.000000</td>\n",
              "      <td>7.499000e+03</td>\n",
              "      <td>1.569180e+06</td>\n",
              "      <td>20210113.0</td>\n",
              "      <td>NaN</td>\n",
              "    </tr>\n",
              "    <tr>\n",
              "      <th>75%</th>\n",
              "      <td>2012.000000</td>\n",
              "      <td>41.000000</td>\n",
              "      <td>81.000000</td>\n",
              "      <td>61.000000</td>\n",
              "      <td>1.992415e+05</td>\n",
              "      <td>3.033118e+06</td>\n",
              "      <td>20210113.0</td>\n",
              "      <td>NaN</td>\n",
              "    </tr>\n",
              "    <tr>\n",
              "      <th>max</th>\n",
              "      <td>2020.000000</td>\n",
              "      <td>56.000000</td>\n",
              "      <td>95.000000</td>\n",
              "      <td>82.000000</td>\n",
              "      <td>1.111025e+07</td>\n",
              "      <td>1.750088e+07</td>\n",
              "      <td>20210113.0</td>\n",
              "      <td>NaN</td>\n",
              "    </tr>\n",
              "  </tbody>\n",
              "</table>\n",
              "</div>\n",
              "      <button class=\"colab-df-convert\" onclick=\"convertToInteractive('df-10026a26-10d8-480d-97b0-5021d9677846')\"\n",
              "              title=\"Convert this dataframe to an interactive table.\"\n",
              "              style=\"display:none;\">\n",
              "        \n",
              "  <svg xmlns=\"http://www.w3.org/2000/svg\" height=\"24px\"viewBox=\"0 0 24 24\"\n",
              "       width=\"24px\">\n",
              "    <path d=\"M0 0h24v24H0V0z\" fill=\"none\"/>\n",
              "    <path d=\"M18.56 5.44l.94 2.06.94-2.06 2.06-.94-2.06-.94-.94-2.06-.94 2.06-2.06.94zm-11 1L8.5 8.5l.94-2.06 2.06-.94-2.06-.94L8.5 2.5l-.94 2.06-2.06.94zm10 10l.94 2.06.94-2.06 2.06-.94-2.06-.94-.94-2.06-.94 2.06-2.06.94z\"/><path d=\"M17.41 7.96l-1.37-1.37c-.4-.4-.92-.59-1.43-.59-.52 0-1.04.2-1.43.59L10.3 9.45l-7.72 7.72c-.78.78-.78 2.05 0 2.83L4 21.41c.39.39.9.59 1.41.59.51 0 1.02-.2 1.41-.59l7.78-7.78 2.81-2.81c.8-.78.8-2.07 0-2.86zM5.41 20L4 18.59l7.72-7.72 1.47 1.35L5.41 20z\"/>\n",
              "  </svg>\n",
              "      </button>\n",
              "      \n",
              "  <style>\n",
              "    .colab-df-container {\n",
              "      display:flex;\n",
              "      flex-wrap:wrap;\n",
              "      gap: 12px;\n",
              "    }\n",
              "\n",
              "    .colab-df-convert {\n",
              "      background-color: #E8F0FE;\n",
              "      border: none;\n",
              "      border-radius: 50%;\n",
              "      cursor: pointer;\n",
              "      display: none;\n",
              "      fill: #1967D2;\n",
              "      height: 32px;\n",
              "      padding: 0 0 0 0;\n",
              "      width: 32px;\n",
              "    }\n",
              "\n",
              "    .colab-df-convert:hover {\n",
              "      background-color: #E2EBFA;\n",
              "      box-shadow: 0px 1px 2px rgba(60, 64, 67, 0.3), 0px 1px 3px 1px rgba(60, 64, 67, 0.15);\n",
              "      fill: #174EA6;\n",
              "    }\n",
              "\n",
              "    [theme=dark] .colab-df-convert {\n",
              "      background-color: #3B4455;\n",
              "      fill: #D2E3FC;\n",
              "    }\n",
              "\n",
              "    [theme=dark] .colab-df-convert:hover {\n",
              "      background-color: #434B5C;\n",
              "      box-shadow: 0px 1px 3px 1px rgba(0, 0, 0, 0.15);\n",
              "      filter: drop-shadow(0px 1px 2px rgba(0, 0, 0, 0.3));\n",
              "      fill: #FFFFFF;\n",
              "    }\n",
              "  </style>\n",
              "\n",
              "      <script>\n",
              "        const buttonEl =\n",
              "          document.querySelector('#df-10026a26-10d8-480d-97b0-5021d9677846 button.colab-df-convert');\n",
              "        buttonEl.style.display =\n",
              "          google.colab.kernel.accessAllowed ? 'block' : 'none';\n",
              "\n",
              "        async function convertToInteractive(key) {\n",
              "          const element = document.querySelector('#df-10026a26-10d8-480d-97b0-5021d9677846');\n",
              "          const dataTable =\n",
              "            await google.colab.kernel.invokeFunction('convertToInteractive',\n",
              "                                                     [key], {});\n",
              "          if (!dataTable) return;\n",
              "\n",
              "          const docLinkHtml = 'Like what you see? Visit the ' +\n",
              "            '<a target=\"_blank\" href=https://colab.research.google.com/notebooks/data_table.ipynb>data table notebook</a>'\n",
              "            + ' to learn more about interactive tables.';\n",
              "          element.innerHTML = '';\n",
              "          dataTable['output_type'] = 'display_data';\n",
              "          await google.colab.output.renderOutput(dataTable, element);\n",
              "          const docLink = document.createElement('div');\n",
              "          docLink.innerHTML = docLinkHtml;\n",
              "          element.appendChild(docLink);\n",
              "        }\n",
              "      </script>\n",
              "    </div>\n",
              "  </div>\n",
              "  "
            ]
          },
          "metadata": {},
          "execution_count": 9
        }
      ],
      "source": [
        "df.describe()"
      ]
    },
    {
      "cell_type": "markdown",
      "source": [
        "##Using dtypes attribute to get the types of datas\n"
      ],
      "metadata": {
        "id": "OAGHpS11aDKB"
      }
    },
    {
      "cell_type": "code",
      "execution_count": null,
      "metadata": {
        "colab": {
          "base_uri": "https://localhost:8080/"
        },
        "id": "jR-GmkCptuOI",
        "outputId": "e40ae2e9-1b1e-498e-a9c1-62ae8be58d5f"
      },
      "outputs": [
        {
          "output_type": "execute_result",
          "data": {
            "text/plain": [
              "year                  int64\n",
              "state                object\n",
              "state_po             object\n",
              "state_fips            int64\n",
              "state_cen             int64\n",
              "state_ic              int64\n",
              "office               object\n",
              "candidate            object\n",
              "party_detailed       object\n",
              "writein              object\n",
              "candidatevotes        int64\n",
              "totalvotes            int64\n",
              "version               int64\n",
              "notes               float64\n",
              "party_simplified     object\n",
              "dtype: object"
            ]
          },
          "metadata": {},
          "execution_count": 10
        }
      ],
      "source": [
        "df.dtypes"
      ]
    },
    {
      "cell_type": "markdown",
      "source": [
        "##Dropping the non-numeric columns that we don't need in this data analyzing"
      ],
      "metadata": {
        "id": "hrwpcCBJaUKz"
      }
    },
    {
      "cell_type": "code",
      "source": [
        "non_numaric = ['state','state_po','office','candidate','party_detailed']\n",
        "\n",
        "df_numaric= df.drop(non_numaric,axis =1)\n",
        "df_numaric.shape"
      ],
      "metadata": {
        "colab": {
          "base_uri": "https://localhost:8080/"
        },
        "id": "OdjS03bjBRGF",
        "outputId": "13852e36-4609-4b7c-f1cd-18e27d2050c7"
      },
      "execution_count": null,
      "outputs": [
        {
          "output_type": "execute_result",
          "data": {
            "text/plain": [
              "(4287, 10)"
            ]
          },
          "metadata": {},
          "execution_count": 11
        }
      ]
    },
    {
      "cell_type": "markdown",
      "source": [
        "##Finding if there is any Null values \n",
        "\n",
        "\n",
        "\n",
        "\n"
      ],
      "metadata": {
        "id": "sO5ae92HarvH"
      }
    },
    {
      "cell_type": "code",
      "execution_count": null,
      "metadata": {
        "colab": {
          "base_uri": "https://localhost:8080/"
        },
        "id": "8EXNfnPb5JI9",
        "outputId": "1eee4d56-671d-4aa5-821b-8ac4ea2608d4"
      },
      "outputs": [
        {
          "output_type": "execute_result",
          "data": {
            "text/plain": [
              "year                   0\n",
              "state_fips             0\n",
              "state_cen              0\n",
              "state_ic               0\n",
              "writein                3\n",
              "candidatevotes         0\n",
              "totalvotes             0\n",
              "version                0\n",
              "notes               4287\n",
              "party_simplified       0\n",
              "dtype: int64"
            ]
          },
          "metadata": {},
          "execution_count": 12
        }
      ],
      "source": [
        "df_numaric.isnull().sum()"
      ]
    },
    {
      "cell_type": "markdown",
      "metadata": {
        "id": "_RzCBvRn4WrV"
      },
      "source": [
        "As you see in the above output,\"notes\" column contains as many missing values as rows(shows in \"shape\" attribute), meaning that it only contains missing values.<br> We are going to remove this column from our dataframe\n",
        "\n",
        "\n",
        "\n"
      ]
    },
    {
      "cell_type": "code",
      "execution_count": null,
      "metadata": {
        "colab": {
          "base_uri": "https://localhost:8080/"
        },
        "id": "oY6asRvI3oog",
        "outputId": "6c530503-0a63-4d46-e06b-7b6c2f1d225f"
      },
      "outputs": [
        {
          "output_type": "execute_result",
          "data": {
            "text/plain": [
              "(4287, 9)"
            ]
          },
          "metadata": {},
          "execution_count": 13
        }
      ],
      "source": [
        "df_numaric.drop('notes',axis='columns', inplace=True)\n",
        "df_numaric.shape"
      ]
    },
    {
      "cell_type": "markdown",
      "metadata": {
        "id": "O8GBRUX-2Htg"
      },
      "source": [
        "##Onehot encoding"
      ]
    },
    {
      "cell_type": "markdown",
      "source": [
        "First we use describe() and value_counts() function to get the description of the data and count of uniqe values of two \"party_simplified\" and \"writein\" column that we would like to onehot encode."
      ],
      "metadata": {
        "id": "9gmetaTHb2Hl"
      }
    },
    {
      "cell_type": "code",
      "execution_count": null,
      "metadata": {
        "colab": {
          "base_uri": "https://localhost:8080/"
        },
        "id": "cko6kgm92OHt",
        "outputId": "8cd883ff-0df1-4baf-a69a-2dae25a5750b"
      },
      "outputs": [
        {
          "output_type": "execute_result",
          "data": {
            "text/plain": [
              "count      4287\n",
              "unique        4\n",
              "top       OTHER\n",
              "freq       2524\n",
              "Name: party_simplified, dtype: object"
            ]
          },
          "metadata": {},
          "execution_count": 14
        }
      ],
      "source": [
        "\n",
        "df_numaric['party_simplified'].describe()\n"
      ]
    },
    {
      "cell_type": "code",
      "source": [
        "df_numaric['party_simplified'].value_counts()"
      ],
      "metadata": {
        "colab": {
          "base_uri": "https://localhost:8080/"
        },
        "id": "x8G7O-UE_nVv",
        "outputId": "d596a10e-66ea-4b9d-d277-6a2c583b8092"
      },
      "execution_count": null,
      "outputs": [
        {
          "output_type": "execute_result",
          "data": {
            "text/plain": [
              "OTHER          2524\n",
              "DEMOCRAT        615\n",
              "REPUBLICAN      613\n",
              "LIBERTARIAN     535\n",
              "Name: party_simplified, dtype: int64"
            ]
          },
          "metadata": {},
          "execution_count": 15
        }
      ]
    },
    {
      "cell_type": "code",
      "source": [
        "df_numaric['writein'].describe()"
      ],
      "metadata": {
        "colab": {
          "base_uri": "https://localhost:8080/"
        },
        "id": "9xat6Zgc_jfk",
        "outputId": "3143a84e-54d1-4985-a010-9b3bbad6f32e"
      },
      "execution_count": null,
      "outputs": [
        {
          "output_type": "execute_result",
          "data": {
            "text/plain": [
              "count      4284\n",
              "unique        2\n",
              "top       False\n",
              "freq       3807\n",
              "Name: writein, dtype: object"
            ]
          },
          "metadata": {},
          "execution_count": 16
        }
      ]
    },
    {
      "cell_type": "code",
      "execution_count": null,
      "metadata": {
        "colab": {
          "base_uri": "https://localhost:8080/"
        },
        "id": "qhMmbb4k24vv",
        "outputId": "05c6ffb9-037e-4bce-a20f-06dca1df6659"
      },
      "outputs": [
        {
          "output_type": "execute_result",
          "data": {
            "text/plain": [
              "False    3807\n",
              "True      477\n",
              "Name: writein, dtype: int64"
            ]
          },
          "metadata": {},
          "execution_count": 17
        }
      ],
      "source": [
        "df_numaric['writein'].value_counts()\n"
      ]
    },
    {
      "cell_type": "markdown",
      "source": [
        "And the by using get_dummies() function in pandas, convert this categorical columns to dummies"
      ],
      "metadata": {
        "id": "aGQ3MRh8dfUX"
      }
    },
    {
      "cell_type": "code",
      "execution_count": null,
      "metadata": {
        "id": "eTzPLZIZi436"
      },
      "outputs": [],
      "source": [
        "categorical_cols = ['writein', 'party_simplified'] \n",
        "\n",
        "df_numaric = pd.get_dummies(df_numaric, columns = categorical_cols)"
      ]
    },
    {
      "cell_type": "markdown",
      "source": [
        "By runing isnull() function again we chack and make sure that \"df_numaric\" datframe does not include any null value."
      ],
      "metadata": {
        "id": "7wS2dpt0d5dZ"
      }
    },
    {
      "cell_type": "code",
      "source": [
        "df_numaric.isnull().any().any()"
      ],
      "metadata": {
        "colab": {
          "base_uri": "https://localhost:8080/"
        },
        "id": "ej61zmGwn7pI",
        "outputId": "fe8fe957-9730-4552-e1dc-8f44fc720a83"
      },
      "execution_count": null,
      "outputs": [
        {
          "output_type": "execute_result",
          "data": {
            "text/plain": [
              "False"
            ]
          },
          "metadata": {},
          "execution_count": 19
        }
      ]
    },
    {
      "cell_type": "markdown",
      "source": [
        "##Scaling the data using StandardScaler method to resize the distribution of the values and then fit and tranform the input data using fit_transform() method"
      ],
      "metadata": {
        "id": "y7E8-VvAeRTa"
      }
    },
    {
      "cell_type": "code",
      "source": [
        "from sklearn.preprocessing import StandardScaler\n",
        "df1 = StandardScaler().fit_transform(df_numaric)\n",
        "df1"
      ],
      "metadata": {
        "id": "BZjENDgO4JFD",
        "colab": {
          "base_uri": "https://localhost:8080/"
        },
        "outputId": "40209750-3f09-4b3d-91d1-6720dd631660"
      },
      "execution_count": null,
      "outputs": [
        {
          "output_type": "execute_result",
          "data": {
            "text/plain": [
              "array([[-1.62332012, -1.76865978,  0.35867638, ..., -0.37761173,\n",
              "        -1.19651602, -0.40847047],\n",
              "       [-1.62332012, -1.76865978,  0.35867638, ..., -0.37761173,\n",
              "        -1.19651602,  2.44815741],\n",
              "       [-1.62332012, -1.76865978,  0.35867638, ..., -0.37761173,\n",
              "         0.83575981, -0.40847047],\n",
              "       ...,\n",
              "       [ 1.47127125,  1.7536762 ,  1.12713418, ..., -0.37761173,\n",
              "         0.83575981, -0.40847047],\n",
              "       [ 1.47127125,  1.7536762 ,  1.12713418, ..., -0.37761173,\n",
              "         0.83575981, -0.40847047],\n",
              "       [ 1.47127125,  1.7536762 ,  1.12713418, ..., -0.37761173,\n",
              "         0.83575981, -0.40847047]])"
            ]
          },
          "metadata": {},
          "execution_count": 20
        }
      ]
    },
    {
      "cell_type": "markdown",
      "source": [
        "##Create 2 dimentional embeddings with t_SNE"
      ],
      "metadata": {
        "id": "eyqEC03YetWT"
      }
    },
    {
      "cell_type": "code",
      "execution_count": null,
      "metadata": {
        "colab": {
          "base_uri": "https://localhost:8080/"
        },
        "id": "tDHzaGIwkwWi",
        "outputId": "4952c718-3b16-4f36-d930-41ec30a3c5ef"
      },
      "outputs": [
        {
          "output_type": "stream",
          "name": "stderr",
          "text": [
            "/usr/local/lib/python3.7/dist-packages/sklearn/manifold/_t_sne.py:986: FutureWarning: The PCA initialization in TSNE will change to have the standard deviation of PC1 equal to 1e-4 in 1.2. This will ensure better convergence.\n",
            "  FutureWarning,\n"
          ]
        }
      ],
      "source": [
        "from sklearn import manifold\n",
        "import seaborn as sns\n",
        "import matplotlib.pyplot as plt\n",
        "# from time import time\n",
        "\n",
        "\n",
        "tsne = manifold.TSNE(n_components=2, init='pca',learning_rate=50, random_state=0)\n",
        "X_tsne = tsne.fit_transform(df1)\n",
        "\n"
      ]
    },
    {
      "cell_type": "markdown",
      "source": [
        "As it shown below, we embedded the data to two diemntions successfully."
      ],
      "metadata": {
        "id": "caz08DnifJdS"
      }
    },
    {
      "cell_type": "code",
      "source": [
        "X_tsne.shape"
      ],
      "metadata": {
        "colab": {
          "base_uri": "https://localhost:8080/"
        },
        "id": "CgoHLgtx7wdY",
        "outputId": "13d3f1b2-e5b8-460e-c39f-4510bf686b10"
      },
      "execution_count": null,
      "outputs": [
        {
          "output_type": "execute_result",
          "data": {
            "text/plain": [
              "(4287, 2)"
            ]
          },
          "metadata": {},
          "execution_count": 22
        }
      ]
    },
    {
      "cell_type": "markdown",
      "source": [
        "**Ploting the t_SNE**"
      ],
      "metadata": {
        "id": "sk-Yg2GCfYkw"
      }
    },
    {
      "cell_type": "code",
      "source": [
        "plt.scatter(X_tsne[:,0], X_tsne[:,1], cmap=\"tab10\")\n",
        "plt.title(\"t-SNE on election data\")\n",
        "plt.colorbar()\n",
        "plt.show()"
      ],
      "metadata": {
        "colab": {
          "base_uri": "https://localhost:8080/",
          "height": 281
        },
        "id": "YBM4ojmG0kDf",
        "outputId": "4ecbbdd0-6577-428d-8538-91ac3d38dce4"
      },
      "execution_count": null,
      "outputs": [
        {
          "output_type": "display_data",
          "data": {
            "text/plain": [
              "<Figure size 432x288 with 2 Axes>"
            ],
            "image/png": "[encoded data removed]"
          },
          "metadata": {
            "needs_background": "light"
          }
        }
      ]
    },
    {
      "cell_type": "markdown",
      "source": [
        "Color the markers by \"candidatevotes\""
      ],
      "metadata": {
        "id": "acbuFZaefnPY"
      }
    },
    {
      "cell_type": "code",
      "source": [
        "target=[df[\"candidatevotes\"]]\n",
        "plt.scatter(X_tsne[:,0], X_tsne[:,1],c=target,cmap=\"tab10\")"
      ],
      "metadata": {
        "colab": {
          "base_uri": "https://localhost:8080/",
          "height": 282
        },
        "id": "kUTT1aJYmFc4",
        "outputId": "eba415a9-9178-441a-b328-49d0d28b2781"
      },
      "execution_count": null,
      "outputs": [
        {
          "output_type": "execute_result",
          "data": {
            "text/plain": [
              "<matplotlib.collections.PathCollection at 0x7efd5602f490>"
            ]
          },
          "metadata": {},
          "execution_count": 24
        },
        {
          "output_type": "display_data",
          "data": {
            "text/plain": [
              "<Figure size 432x288 with 1 Axes>"
            ],
            "image/png": "[encoded data removed]"
          },
          "metadata": {
            "needs_background": "light"
          }
        }
      ]
    },
    {
      "cell_type": "markdown",
      "source": [
        "Color the markers by \"totalvotes\""
      ],
      "metadata": {
        "id": "M4quV_X-fxN4"
      }
    },
    {
      "cell_type": "code",
      "source": [
        "target=[df[\"totalvotes\"]]\n",
        "plt.scatter(X_tsne[:,0], X_tsne[:,1],c=target,cmap=\"tab10\")"
      ],
      "metadata": {
        "colab": {
          "base_uri": "https://localhost:8080/",
          "height": 282
        },
        "id": "_73mKCnNoLpy",
        "outputId": "085d83c2-3107-4ba3-b620-5c9dbf39fced"
      },
      "execution_count": null,
      "outputs": [
        {
          "output_type": "execute_result",
          "data": {
            "text/plain": [
              "<matplotlib.collections.PathCollection at 0x7efd5602f390>"
            ]
          },
          "metadata": {},
          "execution_count": 25
        },
        {
          "output_type": "display_data",
          "data": {
            "text/plain": [
              "<Figure size 432x288 with 1 Axes>"
            ],
            "image/png": "[encoded data removed]"
          },
          "metadata": {
            "needs_background": "light"
          }
        }
      ]
    },
    {
      "cell_type": "markdown",
      "source": [
        "Appended the x and y components identified by t-SNE to my original"
      ],
      "metadata": {
        "id": "W2rBxghMvTQn"
      }
    },
    {
      "cell_type": "code",
      "source": [
        "df[\"x_component\"]=X_tsne[:,0]\n",
        "df[\"y_component\"]=X_tsne[:,1]"
      ],
      "metadata": {
        "id": "Q1OjKpBH0iyu"
      },
      "execution_count": null,
      "outputs": []
    },
    {
      "cell_type": "markdown",
      "source": [
        "##DBSCAN\n"
      ],
      "metadata": {
        "id": "i72QsIum6sfO"
      }
    },
    {
      "cell_type": "markdown",
      "source": [
        "**Obtaining the number of two parameters \"Min_smaple\" and \"Epsilon\" **\n",
        "\n",
        "***Min_sample:***\n",
        "\n",
        "Generally the formula for finding the Min_sample is:\n",
        "\n",
        "Min_sample = 2*(number of dimentions)\n",
        "\n",
        "Since we here have a 2 Dimentional data, so we can use the default number 4, for this parameter.\n",
        "\n",
        "\n",
        "***Epsilon(Eps):***\n",
        "\n",
        "To find the value of Eps, we use the Nearest Neighbours to determine the distance between each data point and its nearest neighbor, then sort and visualize the results. From the plot we can pick out the greatest value at the curve of the graph."
      ],
      "metadata": {
        "id": "oEHMHzP_qI5Y"
      }
    },
    {
      "cell_type": "code",
      "source": [
        "from sklearn.neighbors import NearestNeighbors\n",
        "neigb = NearestNeighbors(n_neighbors=2)\n",
        "nbrs = neigb.fit(X_tsne)\n",
        "distances,indices = nbrs.kneighbors(X_tsne)"
      ],
      "metadata": {
        "id": "o3wLkdIjoMya"
      },
      "execution_count": null,
      "outputs": []
    },
    {
      "cell_type": "code",
      "source": [
        "distances= np.sort(distances,axis=0)\n",
        "distances = distances[:,1]\n",
        "plt.rcParams['figure.figsize']=(5,3)\n",
        "plt.plot(distances)\n",
        "plt.show"
      ],
      "metadata": {
        "colab": {
          "base_uri": "https://localhost:8080/",
          "height": 228
        },
        "id": "O7naPaS2o3By",
        "outputId": "119cb994-633b-4d14-8c9c-641397063d4a"
      },
      "execution_count": null,
      "outputs": [
        {
          "output_type": "execute_result",
          "data": {
            "text/plain": [
              "<function matplotlib.pyplot.show>"
            ]
          },
          "metadata": {},
          "execution_count": 28
        },
        {
          "output_type": "display_data",
          "data": {
            "text/plain": [
              "<Figure size 360x216 with 1 Axes>"
            ],
            "image/png": "[encoded data removed]"
          },
          "metadata": {
            "needs_background": "light"
          }
        }
      ]
    },
    {
      "cell_type": "markdown",
      "source": [
        "From the above plot, we can see that the maximum curvature of the curve is aproximatley 10, hence:\n",
        "\n",
        "Eps= 10"
      ],
      "metadata": {
        "id": "mL6tt-STtlB_"
      }
    },
    {
      "cell_type": "code",
      "source": [
        "from sklearn.cluster import DBSCAN\n",
        "dbscan = DBSCAN(eps=10, min_samples=4).fit(X_tsne)\n",
        "labels = dbscan.labels_"
      ],
      "metadata": {
        "id": "Fj7FtGp4Pb3w"
      },
      "execution_count": null,
      "outputs": []
    },
    {
      "cell_type": "code",
      "source": [
        "plt.scatter(X_tsne[:,0],X_tsne[:,1], c=labels,cmap=\"plasma\")\n",
        "plt.title(\"DBSCAN Algorithm\")\n",
        "plt.xlabel(\"x\")\n",
        "plt.ylabel(\"y\")\n",
        "plt.colorbar()\n",
        "plt.show()"
      ],
      "metadata": {
        "colab": {
          "base_uri": "https://localhost:8080/",
          "height": 241
        },
        "id": "OtUdMzP-8OkG",
        "outputId": "c968c0f4-41b0-49c5-ac94-e94163483e70"
      },
      "execution_count": null,
      "outputs": [
        {
          "output_type": "display_data",
          "data": {
            "text/plain": [
              "<Figure size 360x216 with 2 Axes>"
            ],
            "image/png": "[encoded data removed]"
          },
          "metadata": {
            "needs_background": "light"
          }
        }
      ]
    },
    {
      "cell_type": "markdown",
      "source": [
        "##What are the steps if dataset were \"Big data\"?"
      ],
      "metadata": {
        "id": "0dyJ3sIOAzb6"
      }
    },
    {
      "cell_type": "markdown",
      "source": [
        "\n",
        "A source or sources, processing steps, and a destination are the three main aspects of a data pipeline.\n",
        "\n",
        "1. Sources\n",
        "Sources are where data comes from. Common sources include relational database management systems like MySQL, CRMs such as Salesforce and HubSpot, ERPs like SAP and Oracle, social media management tools, and even IoT device sensors.\n",
        "\n",
        "2. Processing steps\n",
        "In general, data is extracted data from sources, manipulated and changed according to business needs, and then deposited it at its destination. Common processing steps include transformation, augmentation, filtering, grouping, and aggregation.\n",
        "\n",
        "3. Destination\n",
        "A destination is where the data arrives at the end of its processing, typically a data lake or data warehouse for analysis.\n"
      ],
      "metadata": {
        "id": "QgTiE0wqAzrB"
      }
    },
    {
      "cell_type": "markdown",
      "source": [
        "So if the election data were a \"Big data\" here is some basic data preparation process that we would have need to go through."
      ],
      "metadata": {
        "id": "4g4d2bXtiifV"
      }
    },
    {
      "cell_type": "markdown",
      "source": [
        "Here is how we could have load the data with spark, and creating the dataframe.\n",
        "\n",
        "\n",
        "```\n",
        "df = spark.read.format(\"csv\").option(\"header\", \"true\").load(\"dbfs:/FileStore/shared_uploads/masolhjoo@ibs-b.hu/1976_2020_president.csv\")\n",
        "```"
      ],
      "metadata": {
        "id": "_Vv67LRgAz8g"
      }
    },
    {
      "cell_type": "markdown",
      "source": [
        "We can inspect the dataframe by using printSchema function as below:\n",
        "\n",
        "\n",
        "```\n",
        "df.printSchema()\n",
        "```\n"
      ],
      "metadata": {
        "id": "FM4qPpSRA0Gu"
      }
    },
    {
      "cell_type": "markdown",
      "source": [
        "Showing data, it could be done by simple show() function, or we can add the vertical parameter for a better veiw:\n",
        "\n",
        "\n",
        "```\n",
        "df.show(1, vertical=True)\n",
        "```\n"
      ],
      "metadata": {
        "id": "72PMbsexBGeo"
      }
    },
    {
      "cell_type": "markdown",
      "source": [
        "Other way to display the dataframe is using display() function:\n",
        "\n",
        "\n",
        "\n",
        "```\n",
        "df.display()\n",
        "```\n",
        "\n"
      ],
      "metadata": {
        "id": "VBRDb73XBIJK"
      }
    },
    {
      "cell_type": "markdown",
      "source": [
        "To claculate the number od rows(data) we use count() function:\n",
        "\n",
        "\n",
        "\n",
        "```\n",
        "df.count()\n",
        "```\n",
        "\n"
      ],
      "metadata": {
        "id": "AVlcq4r4BWjv"
      }
    },
    {
      "cell_type": "markdown",
      "source": [
        "Next step is to find the null data in the dataframe, as an output of below code, we can see \"Notes\"column 4272 null values. \n",
        "```\n",
        "from pyspark.sql.functions import col,isnan,when,count\n",
        "df2 = df_filtered.select([count(when(col(c).contains('NA') | \\\n",
        "                            col(c).contains('NULL') | \\\n",
        "                            (col(c) == '' ) | \\\n",
        "                            col(c).isNull() | \\\n",
        "                            isnan(c), c \n",
        "                           )).alias(c)\n",
        "                    for c in df_filtered.columns])\n",
        "df2.show()\n",
        "```\n",
        "\n"
      ],
      "metadata": {
        "id": "uTSfYUpRCVr-"
      }
    },
    {
      "cell_type": "markdown",
      "source": [
        "Hence we can drop this column as well.\n",
        "\n",
        "\n",
        "```\n",
        "df_filtered= df_filtered.drop('notes')\n",
        "df_filtered.display()\n",
        "```\n",
        "\n"
      ],
      "metadata": {
        "id": "04_6WkzRLdgL"
      }
    },
    {
      "cell_type": "markdown",
      "source": [
        "Now the only step that is left is to onehot encode the two \"wrtein\" and \"party_simplified\" columns.\n",
        "\n",
        "\n",
        "\n",
        "```\n",
        "import org.apache.spark.ml.feature.OneHotEncoderEstimator\n",
        "\n",
        "val encoder = new OneHotEncoderEstimator()\n",
        "  .setInputCols(Array(\"wrtein\", \"party_simplified\"))\n",
        "  .setOutputCols(Array(\"wrteinVec1\", \"party_simplifiedVec2\"))\n",
        "val model = encoder.fit(df_filtered)\n",
        "\n",
        "val encoded = model.transform(df_filtered)\n",
        "encoded.show()\n",
        "```\n",
        "\n",
        "\n",
        "\n",
        "\n",
        "\n",
        "\n",
        "\n"
      ],
      "metadata": {
        "id": "BdNLHRAPNv8c"
      }
    },
    {
      "cell_type": "markdown",
      "source": [
        "The output \"encoded\", which is included our input featurs, is the data we can use to proceed with T_sne and modeling."
      ],
      "metadata": {
        "id": "kOoHoySfXom1"
      }
    }
  ],
  "metadata": {
    "colab": {
      "collapsed_sections": [],
      "name": "US-senate-election-19762020.ipynb",
      "provenance": []
    },
    "kernelspec": {
      "display_name": "Python 3",
      "name": "python3"
    },
    "language_info": {
      "name": "python"
    },
    "accelerator": "GPU"
  },
  "nbformat": 4,
  "nbformat_minor": 0
}